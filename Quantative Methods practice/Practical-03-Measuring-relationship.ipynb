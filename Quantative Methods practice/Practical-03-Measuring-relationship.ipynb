{
 "cells": [
  {
   "cell_type": "markdown",
   "metadata": {},
   "source": [
    "<div style=\"float:left\">\n",
    "            <h1 style=\"width:450px\">CASA0007 Practical 3: Measuring Relationship</h1>\n",
    "            <h2 style=\"width:450px\">Correlation and regression</h2>\n",
    "</div>\n",
    "<div style=\"float:right\"><img width=\"100\" src=\"https://github.com/jreades/i2p/raw/master/img/casa_logo.jpg\" /></div>"
   ]
  },
  {
   "cell_type": "markdown",
   "metadata": {},
   "source": [
    "## Welcome!\n",
    "\n",
    "In this practical, you will achieve the following objectives:\n",
    "1. Review weekly quiz;\n",
    "1. Learn how to calculate the correlation coefficients using Python;\n",
    "1. Learn how to build and interpret a simple linear regression model using Python;\n",
    "\n",
    "We will use a few Python libraries in this practical."
   ]
  },
  {
   "cell_type": "markdown",
   "metadata": {},
   "source": [
    "## Part 1: Reviewing quiz\n",
    "\n",
    "We will review the weekly quiz on Moodle."
   ]
  },
  {
   "cell_type": "markdown",
   "metadata": {},
   "source": [
    "## Part 2: Calculating correlation coefficients\n",
    "\n",
    "### Libraries"
   ]
  },
  {
   "cell_type": "code",
   "execution_count": 2,
   "metadata": {},
   "outputs": [],
   "source": [
    "%matplotlib inline\n",
    "\n",
    "import matplotlib.pyplot as plt\n",
    "import numpy as np\n",
    "import pandas as pd\n",
    "\n",
    "import statsmodels.formula.api as smf\n",
    "import statsmodels"
   ]
  },
  {
   "cell_type": "code",
   "execution_count": 3,
   "metadata": {},
   "outputs": [
    {
     "name": "stdout",
     "output_type": "stream",
     "text": [
      "pandas version: 2.2.2\n",
      "statsmodels version: 0.14.3\n"
     ]
    }
   ],
   "source": [
    "# the version of pandas and statsmodels might differ on your system\n",
    "print(\"pandas version: {}\".format(pd.__version__))\n",
    "print(\"statsmodels version: {}\".format(statsmodels.__version__))"
   ]
  },
  {
   "cell_type": "markdown",
   "metadata": {},
   "source": [
    "### Downloading data (office environment)"
   ]
  },
  {
   "cell_type": "code",
   "execution_count": 4,
   "metadata": {},
   "outputs": [],
   "source": [
    "# Load the data as dataframe\n",
    "df_office = pd.read_csv('https://github.com/huanfachen/QM_2024/raw/main/data/office_environ_data_1.csv')"
   ]
  },
  {
   "cell_type": "code",
   "execution_count": 5,
   "metadata": {},
   "outputs": [
    {
     "data": {
      "text/html": [
       "<div>\n",
       "<style scoped>\n",
       "    .dataframe tbody tr th:only-of-type {\n",
       "        vertical-align: middle;\n",
       "    }\n",
       "\n",
       "    .dataframe tbody tr th {\n",
       "        vertical-align: top;\n",
       "    }\n",
       "\n",
       "    .dataframe thead th {\n",
       "        text-align: right;\n",
       "    }\n",
       "</style>\n",
       "<table border=\"1\" class=\"dataframe\">\n",
       "  <thead>\n",
       "    <tr style=\"text-align: right;\">\n",
       "      <th></th>\n",
       "      <th>gender</th>\n",
       "      <th>greenery index</th>\n",
       "      <th>natural light index</th>\n",
       "      <th>reported well-being</th>\n",
       "    </tr>\n",
       "  </thead>\n",
       "  <tbody>\n",
       "    <tr>\n",
       "      <th>0</th>\n",
       "      <td>M</td>\n",
       "      <td>124.7</td>\n",
       "      <td>28.4</td>\n",
       "      <td>6</td>\n",
       "    </tr>\n",
       "    <tr>\n",
       "      <th>1</th>\n",
       "      <td>F</td>\n",
       "      <td>67.9</td>\n",
       "      <td>64.0</td>\n",
       "      <td>6</td>\n",
       "    </tr>\n",
       "    <tr>\n",
       "      <th>2</th>\n",
       "      <td>M</td>\n",
       "      <td>129.4</td>\n",
       "      <td>79.5</td>\n",
       "      <td>7</td>\n",
       "    </tr>\n",
       "    <tr>\n",
       "      <th>3</th>\n",
       "      <td>F</td>\n",
       "      <td>111.1</td>\n",
       "      <td>130.7</td>\n",
       "      <td>8</td>\n",
       "    </tr>\n",
       "    <tr>\n",
       "      <th>4</th>\n",
       "      <td>F</td>\n",
       "      <td>168.2</td>\n",
       "      <td>79.1</td>\n",
       "      <td>8</td>\n",
       "    </tr>\n",
       "  </tbody>\n",
       "</table>\n",
       "</div>"
      ],
      "text/plain": [
       "  gender  greenery index  natural light index  reported well-being\n",
       "0      M           124.7                 28.4                    6\n",
       "1      F            67.9                 64.0                    6\n",
       "2      M           129.4                 79.5                    7\n",
       "3      F           111.1                130.7                    8\n",
       "4      F           168.2                 79.1                    8"
      ]
     },
     "execution_count": 5,
     "metadata": {},
     "output_type": "execute_result"
    }
   ],
   "source": [
    "# The data reports the responses (on a scale of 1 to 10) of 100 office workers about their subjective feelings...\n",
    "# ... of well-being in relation to their working environment.\n",
    "# Information on the gender of respondents is provided, along with some indices to measure the greenery...\n",
    "# ... of their environment (e.g. pot plants, views of trees) and the amount of natural light.\n",
    "\n",
    "# Let's visualise the first few rows of each data set:\n",
    "\n",
    "df_office.head()"
   ]
  },
  {
   "cell_type": "code",
   "execution_count": 6,
   "metadata": {},
   "outputs": [
    {
     "data": {
      "text/plain": [
       "(100, 4)"
      ]
     },
     "execution_count": 6,
     "metadata": {},
     "output_type": "execute_result"
    }
   ],
   "source": [
    "# print the shape of the DataFrame\n",
    "df_office.shape"
   ]
  },
  {
   "cell_type": "markdown",
   "metadata": {},
   "source": [
    "There are 100 observations or survey responses and 4 variables in the dataset.\n",
    "\n",
    "What are the variables?\n",
    "\n",
    "- gender: male or female (nominal data)\n",
    "- greenery index: how green the environment is (ratio data)\n",
    "- natural light index: the index of natural light (ratio data)\n",
    "- report well-being: the subjective feelings of well-being in relation to the office environment (ratio data)\n",
    "\n",
    "Note that we will use 'report well-being' as the dependent variable (y) and the other three as independent variables (x)."
   ]
  },
  {
   "cell_type": "code",
   "execution_count": 7,
   "metadata": {},
   "outputs": [
    {
     "data": {
      "text/plain": [
       "Index(['gender', 'greenery index', 'natural light index',\n",
       "       'reported well-being'],\n",
       "      dtype='object')"
      ]
     },
     "execution_count": 7,
     "metadata": {},
     "output_type": "execute_result"
    }
   ],
   "source": [
    "# print the column names\n",
    "df_office.columns"
   ]
  },
  {
   "cell_type": "code",
   "execution_count": 8,
   "metadata": {},
   "outputs": [
    {
     "name": "stdout",
     "output_type": "stream",
     "text": [
      "Index(['gender', 'greenery', 'light', 'wellbeing'], dtype='object')\n"
     ]
    }
   ],
   "source": [
    "# It turns out it's easier to work with columns with single word names without spaces, so...\n",
    "df_office = df_office.rename(columns = {'reported well-being':'wellbeing',\n",
    "                          'greenery index':'greenery',\n",
    "                          'natural light index':'light'})\n",
    "print(df_office.columns)"
   ]
  },
  {
   "cell_type": "markdown",
   "metadata": {},
   "source": [
    "### Exploratory data analysis"
   ]
  },
  {
   "cell_type": "markdown",
   "metadata": {},
   "source": [
    "We will make some simple plots of the data. So, what can you say about the following plots?"
   ]
  },
  {
   "cell_type": "code",
   "execution_count": 9,
   "metadata": {},
   "outputs": [
    {
     "data": {
      "text/plain": [
       "<Axes: xlabel='light', ylabel='wellbeing'>"
      ]
     },
     "execution_count": 9,
     "metadata": {},
     "output_type": "execute_result"
    },
    {
     "data": {
      "image/png": "[encoded data removed]",
      "text/plain": [
       "<Figure size 1600x800 with 3 Axes>"
      ]
     },
     "metadata": {},
     "output_type": "display_data"
    }
   ],
   "source": [
    "# visualize the relationship between the features and the response using scatterplots\n",
    "fig, axs = plt.subplots(1, 3, sharey=True)\n",
    "df_office.plot(kind='scatter', x='gender', y='wellbeing', ax=axs[0], figsize=(16, 8))\n",
    "df_office.plot(kind='scatter', x='greenery', y='wellbeing', ax=axs[1])\n",
    "df_office.plot(kind='scatter', x='light', y='wellbeing', ax=axs[2])"
   ]
  },
  {
   "cell_type": "markdown",
   "metadata": {},
   "source": [
    "### Correlation coefficients"
   ]
  },
  {
   "cell_type": "code",
   "execution_count": 10,
   "metadata": {},
   "outputs": [
    {
     "name": "stdout",
     "output_type": "stream",
     "text": [
      "           greenery     light  wellbeing\n",
      "greenery   1.000000  0.009559   0.587567\n",
      "light      0.009559  1.000000   0.640688\n",
      "wellbeing  0.587567  0.640688   1.000000\n"
     ]
    }
   ],
   "source": [
    "# what is the Pearson correlation between all pairs of numerical variables in this dataset?\n",
    "\n",
    "# use if statement to check pd version. If it is after version 2.1, we can use the following code to get the correlation matrix: df_office.corr(numeric_only=True). Otherwise, use df_office.corr()\n",
    "# in pandas version 2.1.0, the parameter numeric_only is added to the corr() function and is default at false. This parameter is used to specify whether to use only numeric columns to calculate the correlation matrix. If set to True, only numeric columns will be used. If set to False, all columns will be used.\n",
    "if pd.__version__ > '2.1.0':\n",
    "    print(df_office.corr(numeric_only=True))\n",
    "else:\n",
    "    print(df_office.corr())\n"
   ]
  },
  {
   "cell_type": "code",
   "execution_count": 17,
   "metadata": {},
   "outputs": [
    {
     "data": {
      "text/plain": [
       "Text(0.5, 1.0, 'Correlation Matrix')"
      ]
     },
     "execution_count": 17,
     "metadata": {},
     "output_type": "execute_result"
    },
    {
     "data": {
      "image/png": "[encoded data removed]",
      "text/plain": [
       "<Figure size 1900x1500 with 2 Axes>"
      ]
     },
     "metadata": {},
     "output_type": "display_data"
    }
   ],
   "source": [
    "# You can also plot the correlation matrix\n",
    "# only for numeric variables\n",
    "# reference: https://stackoverflow.com/a/29432741/4667568\n",
    "f = plt.figure(figsize=(19, 15)) # creates a new figure, sets length and width\n",
    "plt.matshow(df_office.corr(numeric_only=True), fignum=f.number) # matshow - creates matrix plot for df_office.corr(), fignum - assigned number for when there is multiple figures plotted\n",
    "# if you are using pandas 2.1, use the following code to replace the above line\n",
    "# plt.matshow(df_office.corr(numeric_only=True), fignum=f.number)\n",
    "plt.xticks(range(df_office.select_dtypes(['number']).shape[1]), df_office.select_dtypes(['number']).columns, fontsize=14, rotation=45) # add the x axis label\n",
    "plt.yticks(range(df_office.select_dtypes(['number']).shape[1]), df_office.select_dtypes(['number']).columns, fontsize=14) # add the y axis label\n",
    "# select_dtypes(['number']) - choose the numeric variables\n",
    "cb = plt.colorbar() # add a legend to the right hand (default position)\n",
    "cb.ax.tick_params(labelsize=14) # label size\n",
    "plt.title('Correlation Matrix', fontsize=16) # add the title"
   ]
  },
  {
   "cell_type": "markdown",
   "metadata": {},
   "source": [
    "Pandas provides three methods of correlation: Pearson, Spearman, and Kendall. By default, it uses **Pearson correlation**.\n",
    "\n",
    "You might have noted that the gender column is excluded in the result above. This is becuase Pandas only computes the correlation for numeric variables.\n",
    "\n",
    "See [the documentation](https://pandas.pydata.org/pandas-docs/version/1.4/reference/api/pandas.DataFrame.corr.html)."
   ]
  },
  {
   "cell_type": "markdown",
   "metadata": {},
   "source": [
    "## Part 3: build a simple regression model"
   ]
  },
  {
   "cell_type": "code",
   "execution_count": 21,
   "metadata": {},
   "outputs": [
    {
     "name": "stdout",
     "output_type": "stream",
     "text": [
      "                            OLS Regression Results                            \n",
      "==============================================================================\n",
      "Dep. Variable:              wellbeing   R-squared:                       0.345\n",
      "Model:                            OLS   Adj. R-squared:                  0.339\n",
      "Method:                 Least Squares   F-statistic:                     51.67\n",
      "Date:                Tue, 22 Oct 2024   Prob (F-statistic):           1.31e-10\n",
      "Time:                        21:17:41   Log-Likelihood:                -96.005\n",
      "No. Observations:                 100   AIC:                             196.0\n",
      "Df Residuals:                      98   BIC:                             201.2\n",
      "Df Model:                           1                                         \n",
      "Covariance Type:            nonrobust                                         \n",
      "==============================================================================\n",
      "                 coef    std err          t      P>|t|      [0.025      0.975]\n",
      "------------------------------------------------------------------------------\n",
      "Intercept      5.7057      0.204     27.941      0.000       5.300       6.111\n",
      "greenery       0.0137      0.002      7.188      0.000       0.010       0.018\n",
      "==============================================================================\n",
      "Omnibus:                        0.713   Durbin-Watson:                   2.123\n",
      "Prob(Omnibus):                  0.700   Jarque-Bera (JB):                0.826\n",
      "Skew:                          -0.181   Prob(JB):                        0.662\n",
      "Kurtosis:                       2.740   Cond. No.                         342.\n",
      "==============================================================================\n",
      "\n",
      "Notes:\n",
      "[1] Standard Errors assume that the covariance matrix of the errors is correctly specified.\n"
     ]
    }
   ],
   "source": [
    "# This performs a multiple regression of wellbeing against greenery:\n",
    "\n",
    "reg_wb_green = smf.ols(formula='wellbeing ~ greenery',data=df_office).fit()\n",
    "\n",
    "# And this gives a big summary of the results:\n",
    "print(reg_wb_green.summary())"
   ]
  },
  {
   "cell_type": "markdown",
   "metadata": {},
   "source": [
    "Note that the **reg_wb_green** model contains a lot of information of the regression models (see [here](https://www.statsmodels.org/dev/generated/statsmodels.regression.linear_model.RegressionResults.html#statsmodels.regression.linear_model.RegressionResults) for a full list), including:\n",
    "\n",
    "- params: the coefficients of intercept and gradients (or slopes)\n",
    "- rsqured\n",
    "- pvalues\n",
    "- fittedvalues: the fitted y values\n",
    "- resid: residuals\n"
   ]
  },
  {
   "cell_type": "code",
   "execution_count": 22,
   "metadata": {},
   "outputs": [
    {
     "name": "stdout",
     "output_type": "stream",
     "text": [
      "y = 0.014 x + 5.706\n",
      "R^2 =  0.34523516578160884\n",
      "p-value of greenery =  0.0\n",
      "p-value of intercept =  0.0\n"
     ]
    }
   ],
   "source": [
    "# Pick out some values of interest and print the regression equation: y=mx+c or y=beta_1*x + beta_0\n",
    "\n",
    "# The order of results: intercept term, slope term\n",
    "beta_0, beta_1 = reg_wb_green.params\n",
    "rsq    = reg_wb_green.rsquared\n",
    "pval_0, pval_1 = reg_wb_green.pvalues\n",
    "\n",
    "print(\"y =\", round(beta_1,3), \"x +\", round(beta_0,3))\n",
    "print(\"R^2 = \", rsq)\n",
    "print(\"p-value of greenery = \", round(pval_1,5))\n",
    "print(\"p-value of intercept = \", round(pval_0,5))"
   ]
  },
  {
   "cell_type": "code",
   "execution_count": 35,
   "metadata": {},
   "outputs": [
    {
     "name": "stdout",
     "output_type": "stream",
     "text": [
      "y = 0.014 x + 5.706\n",
      "Rsq =  0.34523516578160884\n",
      "p-value of greenery =  1.3075485893765913e-10\n"
     ]
    },
    {
     "data": {
      "image/png": "[encoded data removed]",
      "text/plain": [
       "<Figure size 900x900 with 1 Axes>"
      ]
     },
     "metadata": {},
     "output_type": "display_data"
    }
   ],
   "source": [
    "# plot the result\n",
    "fig, ax = plt.subplots()\n",
    "df_office.plot(kind='scatter', x='greenery', y='wellbeing', figsize=(9,9), ax = ax)\n",
    "\n",
    "X= df_office.greenery\n",
    "b = plt.plot(X, X*beta_1 + beta_0, 'r') # Plot the regression line.\n",
    "\n",
    "print(\"y =\", round(beta_1,3), \"x +\", round(beta_0,3))\n",
    "print(\"Rsq = \", rsq)\n",
    "print(\"p-value of greenery = \", pval_1)"
   ]
  },
  {
   "cell_type": "markdown",
   "metadata": {},
   "source": [
    "### Interpreting Model Coefficients\n",
    "How do we interpret the greenery coefficient (0.0137)?\n",
    "\n",
    "A unit increase in greenery is associated with a 0.0137 \"unit\" increase in well-being.\n",
    "\n",
    "Or more clearly: An additional 1 unit improvement in greenery is associated with an increase in subjective well-being in relation to the office of 0.0137 units.\n",
    "\n",
    "The greener the office, the high level of well being. \n",
    "\n",
    "Do you think it make sense?"
   ]
  },
  {
   "cell_type": "markdown",
   "metadata": {},
   "source": [
    "### Making predictions\n",
    "\n",
    "Let's say that there is a new office where the greenery index is 150. What would we predict for the well being in this office?"
   ]
  },
  {
   "cell_type": "code",
   "execution_count": 28,
   "metadata": {},
   "outputs": [
    {
     "data": {
      "text/plain": [
       "7.765793823039568"
      ]
     },
     "execution_count": 28,
     "metadata": {},
     "output_type": "execute_result"
    }
   ],
   "source": [
    "# manually calculate the prediction\n",
    "beta_1*150 + beta_0"
   ]
  },
  {
   "cell_type": "markdown",
   "metadata": {},
   "source": [
    "Thus, we would predict well being of 7.766 in that office.\n",
    "\n",
    "Of course, we can also use Statsmodels to make the prediction:"
   ]
  },
  {
   "cell_type": "code",
   "execution_count": 29,
   "metadata": {},
   "outputs": [
    {
     "data": {
      "text/html": [
       "<div>\n",
       "<style scoped>\n",
       "    .dataframe tbody tr th:only-of-type {\n",
       "        vertical-align: middle;\n",
       "    }\n",
       "\n",
       "    .dataframe tbody tr th {\n",
       "        vertical-align: top;\n",
       "    }\n",
       "\n",
       "    .dataframe thead th {\n",
       "        text-align: right;\n",
       "    }\n",
       "</style>\n",
       "<table border=\"1\" class=\"dataframe\">\n",
       "  <thead>\n",
       "    <tr style=\"text-align: right;\">\n",
       "      <th></th>\n",
       "      <th>greenery</th>\n",
       "    </tr>\n",
       "  </thead>\n",
       "  <tbody>\n",
       "    <tr>\n",
       "      <th>0</th>\n",
       "      <td>150</td>\n",
       "    </tr>\n",
       "  </tbody>\n",
       "</table>\n",
       "</div>"
      ],
      "text/plain": [
       "   greenery\n",
       "0       150"
      ]
     },
     "execution_count": 29,
     "metadata": {},
     "output_type": "execute_result"
    }
   ],
   "source": [
    "# you have to create a DataFrame since the Statsmodels formula interface expects it\n",
    "X_new = pd.DataFrame({'greenery': [150]})\n",
    "X_new.head()"
   ]
  },
  {
   "cell_type": "code",
   "execution_count": 30,
   "metadata": {},
   "outputs": [
    {
     "data": {
      "text/plain": [
       "0    7.765794\n",
       "dtype: float64"
      ]
     },
     "execution_count": 30,
     "metadata": {},
     "output_type": "execute_result"
    }
   ],
   "source": [
    "# use the model to make predictions on a new value\n",
    "reg_wb_green.predict(X_new)"
   ]
  },
  {
   "cell_type": "markdown",
   "metadata": {},
   "source": [
    "### How Well Does the Model Fit the data?\n",
    "\n",
    "The most common way to evaluate the overall fitness of a linear model is by the R-squared value. \n",
    "\n",
    "R-squared is the proportion of variance explained, meaning the proportion of variance in the observed data that is explained by the model, or the reduction in error over the null model. (The null model just predicts the mean of the observed response, and thus it has an intercept and no slope.)\n",
    "\n",
    "R-squared is between 0 and 1, and higher is better because it means that more variance is explained by the model.\n"
   ]
  },
  {
   "cell_type": "code",
   "execution_count": 31,
   "metadata": {},
   "outputs": [
    {
     "data": {
      "text/plain": [
       "0.34523516578160884"
      ]
     },
     "execution_count": 31,
     "metadata": {},
     "output_type": "execute_result"
    }
   ],
   "source": [
    "# what is the R squared value for the model？You can find the answer from the code above.\n",
    "\n",
    "reg_wb_green.rsquared"
   ]
  },
  {
   "cell_type": "markdown",
   "metadata": {},
   "source": [
    "Is that a \"good\" R-squared value? It's hard to say. The threshold for a good R-squared value depends widely on the domain. \n",
    "\n",
    "Therefore, it's most useful as a tool for comparing different models."
   ]
  },
  {
   "cell_type": "markdown",
   "metadata": {},
   "source": [
    "### The LINE conditions of linear regression"
   ]
  },
  {
   "cell_type": "markdown",
   "metadata": {},
   "source": [
    "Now, we can conduct residual analysis and test the following **LINE** conditions using **Residual vs. Fitted plot**:\n",
    "\n",
    "- Linear relationship\n",
    "- Independent errors\n",
    "- Normally distributed errors\n",
    "- Equal variance for all x values"
   ]
  },
  {
   "cell_type": "code",
   "execution_count": 32,
   "metadata": {},
   "outputs": [
    {
     "data": {
      "image/png": "[encoded data removed]",
      "text/plain": [
       "<Figure size 432x288 with 1 Axes>"
      ]
     },
     "metadata": {
      "needs_background": "light"
     },
     "output_type": "display_data"
    }
   ],
   "source": [
    "# plot \n",
    "plt.scatter(reg_wb_green.fittedvalues, reg_wb_green.resid)\n",
    "# adding title and labels\n",
    "plt.xlabel('Fitted wellbeing')\n",
    "plt.ylabel('Residual')\n",
    "plt.title('Residual vs. Fitted Plot (of office environment)')\n",
    "plt.show()"
   ]
  },
  {
   "cell_type": "markdown",
   "metadata": {},
   "source": [
    "Now, we can discuss the LINE conditions and outliers:\n",
    "\n",
    "- Linear relationship between x and y? Roughly yes (from the scatterplot of x and y, see above), but not obvious.\n",
    "- Independent errors? To some extent. (see below for Durbin-Watson test statistic)\n",
    "- Normally distributed residuals? This is likely true, as there are more points closer to residual of 0. (see below for Jarque-Bera test)\n",
    "- Equal variance for all fitted y values? This is likely true.\n",
    "\n",
    "- Outliers? No."
   ]
  },
  {
   "cell_type": "markdown",
   "metadata": {},
   "source": [
    "### Hypothesis testing of the LINE conditions"
   ]
  },
  {
   "cell_type": "markdown",
   "metadata": {},
   "source": [
    "This part is optional - and we will know more about these hypothesis tests in a following lecture on *Hypothesis Testing*."
   ]
  },
  {
   "cell_type": "code",
   "execution_count": 33,
   "metadata": {},
   "outputs": [
    {
     "data": {
      "text/plain": [
       "2.123422462323803"
      ]
     },
     "execution_count": 33,
     "metadata": {},
     "output_type": "execute_result"
    }
   ],
   "source": [
    "# The Durbin-Watson test statistic is to test the correlation of the residuals - are they independent?\n",
    "# The null hypothesis of the test is that there is no serial correlation in the residuals\n",
    "# The test statistic is approximately equal to 2*(1-r) where r is the sample autocorrelation of the residuals. \n",
    "# Thus, for r == 0, indicating no serial correlation, the test statistic equals 2. This statistic will always be between 0 and 4. \n",
    "# The closer to 0 the statistic, the more evidence for positive serial correlation. The closer to 4, the more evidence for negative serial correlation.\n",
    "\n",
    "statsmodels.stats.stattools.durbin_watson(reg_wb_green.resid)\n"
   ]
  },
  {
   "cell_type": "markdown",
   "metadata": {},
   "source": [
    "The [Durbin-Watson test](https://www.statsmodels.org/stable/generated/statsmodels.stats.stattools.durbin_watson.html#statsmodels.stats.stattools.durbin_watson) result above shows that the serial correlation between the residuals are unlikely."
   ]
  },
  {
   "cell_type": "code",
   "execution_count": 34,
   "metadata": {},
   "outputs": [
    {
     "data": {
      "text/plain": [
       "(0.8263757642404426,\n",
       " 0.6615379799927861,\n",
       " -0.18066990922142118,\n",
       " 2.739685346118587)"
      ]
     },
     "execution_count": 34,
     "metadata": {},
     "output_type": "execute_result"
    }
   ],
   "source": [
    "# The Jarque-Bera test statistic (JB) tests the null that the data is normally distributed against an alternative that the data follow some other distribution. \n",
    "# The test statistic is based on two moments of the data, the skewness, and the kurtosis, and has an asymptotic chi-squared distribution.\n",
    "# The test statistic of the JB test is always a positive number. If it's far from zero, it indicates that the sample data do not have a normal distribution.\n",
    "\n",
    "statsmodels.stats.stattools.jarque_bera(reg_wb_green.resid)"
   ]
  },
  {
   "cell_type": "markdown",
   "metadata": {},
   "source": [
    "The Jarque-Bera test above returns four values. The first two values are the JB test statistic and the p-value of the test statistic.\n",
    "\n",
    "As the JB test statistic is quite close to 0 and the p value is greater than 0.05 (the common threshold of p value), it indicates that the residuals of this model are likely to follow a normal distribution.\n",
    "\n",
    "More details can be found [here](https://www.statsmodels.org/stable/generated/statsmodels.stats.stattools.jarque_bera.html#statsmodels.stats.stattools.jarque_bera)."
   ]
  },
  {
   "cell_type": "markdown",
   "metadata": {},
   "source": [
    "## Part 4:\n",
    "\n",
    "We have provided a few additional datasets on Moodle.\n",
    "\n",
    "Can you use the above code to investigate one or more additional datasets and interpret the results?\n",
    "\n",
    "[This notebook](https://raw.githubusercontent.com/huanfachen/QM_2024/main/practicals/Practical_03_regression_ad_data.ipynb) provides another example of using regression to investigating a dataset relating to advertisement."
   ]
  },
  {
   "cell_type": "markdown",
   "metadata": {},
   "source": [
    "## Credits\n",
    "### Contributors:\n",
    "The following individuals have contributed to these teaching materials: [Huanfa Chen](huanfa.chen@ucl.ac.uk)\n",
    "\n",
    "### License\n",
    "These teaching materials are licensed under a mix of The MIT License and the Creative Commons Attribution-NonCommercial-ShareAlike 4.0 license.\n",
    "\n",
    "### Acknowledgements\n",
    "This notebook is adjusted from [this linear regression tutorial](https://github.com/justmarkham/DAT4/blob/master/notebooks/08_linear_regression.ipynb).\n",
    "\n",
    "### Dependencies\n",
    "This notebook depends on the following libraries: pandas, matplotlib, statsmodels"
   ]
  }
 ],
 "metadata": {
  "kernelspec": {
   "display_name": "Python (base)",
   "language": "python",
   "name": "base"
  },
  "language_info": {
   "codemirror_mode": {
    "name": "ipython",
    "version": 3
   },
   "file_extension": ".py",
   "mimetype": "text/x-python",
   "name": "python",
   "nbconvert_exporter": "python",
   "pygments_lexer": "ipython3",
   "version": "3.11.9"
  },
  "vscode": {
   "interpreter": {
    "hash": "d4d1e4263499bec80672ea0156c357c1ee493ec2b1c70f0acce89fc37c4a6abe"
   }
  }
 },
 "nbformat": 4,
 "nbformat_minor": 4
}
